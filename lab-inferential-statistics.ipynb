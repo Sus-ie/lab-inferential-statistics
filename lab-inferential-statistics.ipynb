{
 "cells": [
  {
   "cell_type": "code",
   "execution_count": 1,
   "id": "88e3eb21-4f5a-480e-8223-61bf301dc47e",
   "metadata": {},
   "outputs": [
    {
     "name": "stdout",
     "output_type": "stream",
     "text": [
      "4.761904761904759\n"
     ]
    }
   ],
   "source": [
    "#Population μ = 120 mm Hg\n",
    "# Sample Size n = 100\n",
    "#people had an average systolic blood pressure of 130.1 mm Hg (Sample Mean)\n",
    "#tandard deviation of 21.21 mm Hg (sample standard deviation)\n",
    "\n",
    "# Given values\n",
    "mu = 120          \n",
    "x_bar = 130.1     \n",
    "s = 21.21        \n",
    "n = 100           \n",
    "\n",
    "#T-test\n",
    "t_statistic = (x_bar - mu) / (s / (n ** 0.5))\n",
    "print(t_statistic) "
   ]
  }
 ],
 "metadata": {
  "kernelspec": {
   "display_name": "Python 3 (ipykernel)",
   "language": "python",
   "name": "python3"
  },
  "language_info": {
   "codemirror_mode": {
    "name": "ipython",
    "version": 3
   },
   "file_extension": ".py",
   "mimetype": "text/x-python",
   "name": "python",
   "nbconvert_exporter": "python",
   "pygments_lexer": "ipython3",
   "version": "3.11.7"
  }
 },
 "nbformat": 4,
 "nbformat_minor": 5
}
